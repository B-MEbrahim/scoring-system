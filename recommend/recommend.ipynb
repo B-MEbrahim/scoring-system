{
 "cells": [
  {
   "cell_type": "code",
   "execution_count": 1,
   "id": "0da24306",
   "metadata": {},
   "outputs": [],
   "source": [
    "from langchain_chroma import Chroma\n",
    "from langchain.embeddings import HuggingFaceBgeEmbeddings"
   ]
  },
  {
   "cell_type": "code",
   "execution_count": null,
   "id": "accf0766",
   "metadata": {},
   "outputs": [],
   "source": [
    "embed_model = HuggingFaceBgeEmbeddings(model_name=\"BAAI/bge-small-en\")"
   ]
  },
  {
   "cell_type": "code",
   "execution_count": 3,
   "id": "65cd9918",
   "metadata": {},
   "outputs": [],
   "source": [
    "import json\n",
    "with open(\"investor_profiles.json\", \"r\") as f:\n",
    "    data = json.load(f)\n",
    "\n",
    "investors = data['investors']"
   ]
  },
  {
   "cell_type": "code",
   "execution_count": 7,
   "id": "a6f4e034",
   "metadata": {},
   "outputs": [
    {
     "data": {
      "text/plain": [
       "{'Problem': 'Inefficient urban waste collection causes $380M annual cost impact; pilot cities show 60% potential improvement in recycling rates.',\n",
       " 'Solution': 'AI-powered routing algorithm + IoT smart bins reduces collection trips by 40% vs competitors; proprietary technology validated in 3 municipalities.',\n",
       " 'Market': 'TAM/SAM/SOM clearly defined ($3.8B/$1.5B/$500M); growth 15%; competitors include WasteRobotics, RecycleBot with clear differentiation.',\n",
       " 'Product': 'MVP pilots completed; IoT sensors uptime 99%, mobile app retention 95%, routing algorithm validated; moat: data network effects.',\n",
       " 'Team': 'Founders have 30 yrs combined experience; relevant municipal scaling & tech expertise; advisory board selected.',\n",
       " 'Business_Model': 'Subscription pricing tiers clarified: Basic $2K, Premium $5K, Enterprise $10K; revenue split: municipalities pay monthly fees for premium features.'}"
      ]
     },
     "execution_count": 7,
     "metadata": {},
     "output_type": "execute_result"
    }
   ],
   "source": [
    "with open(\"EcoTech_recommendations_augmented.json\", \"r\") as f:\n",
    "    startup = json.load(f)\n",
    "\n",
    "startup"
   ]
  },
  {
   "cell_type": "markdown",
   "id": "9f005c2c",
   "metadata": {},
   "source": [
    "### Create ChromaDB"
   ]
  },
  {
   "cell_type": "code",
   "execution_count": 8,
   "id": "36450bde",
   "metadata": {},
   "outputs": [],
   "source": [
    "db = Chroma(collection_name='investors', embedding_function=embed_model)"
   ]
  },
  {
   "cell_type": "markdown",
   "id": "01635abf",
   "metadata": {},
   "source": [
    "### Add investors"
   ]
  },
  {
   "cell_type": "code",
   "execution_count": 12,
   "id": "652d8798",
   "metadata": {},
   "outputs": [],
   "source": [
    "for inv in investors:\n",
    "    text_to_embed = inv['thesis_text'] + \" \" + \" \".join(inv[\"industry_tags\"])\n",
    "    \n",
    "    metadata = {\n",
    "        \"id\": inv[\"id\"],\n",
    "        \"name\": inv[\"name\"],\n",
    "        \"stage_focus\": \", \".join(inv[\"stage_focus\"]),\n",
    "        \"ticket_min_usd\": inv[\"ticket_min_usd\"],\n",
    "        \"ticket_max_usd\": inv[\"ticket_max_usd\"],\n",
    "        \"preferred_geographies\": \", \".join(inv[\"preferred_geographies\"]),\n",
    "        \"industry_tags\": \", \".join(inv[\"industry_tags\"]),\n",
    "        \"thesis_text\": inv[\"thesis_text\"],\n",
    "        \"contact_email\": inv[\"contact\"][\"email\"]\n",
    "    }\n",
    "    \n",
    "    db.add_texts([text_to_embed], metadatas=[metadata], ids=[inv[\"id\"]])"
   ]
  },
  {
   "cell_type": "markdown",
   "id": "c41e0a10",
   "metadata": {},
   "source": [
    "### Query Construction for Startup"
   ]
  },
  {
   "cell_type": "code",
   "execution_count": null,
   "id": "1f471b32",
   "metadata": {},
   "outputs": [],
   "source": [
    "query_text = (\n",
    "    startup[\"problem_statement\"] + \" \" +\n",
    "    startup[\"solution_description\"] + \" \" +\n",
    "    \" \".join(startup[\"industry_tags\"]) + \" \" +\n",
    "    f\"Stage: {startup['stage']} \" +\n",
    "    f\"Funding ask: ${startup['funding_ask_usd']} \" \n",
    ")\n"
   ]
  },
  {
   "cell_type": "markdown",
   "id": "685391d3",
   "metadata": {},
   "source": [
    "### Similarity Search with Score"
   ]
  },
  {
   "cell_type": "code",
   "execution_count": null,
   "id": "44842096",
   "metadata": {},
   "outputs": [],
   "source": [
    "results = db.(query_text, k=2)\n",
    "\n",
    "for match, score in results:\n",
    "    print(f\"{match.metadata['name']} — Score: {score:.4f}\")\n"
   ]
  },
  {
   "cell_type": "markdown",
   "id": "65045646",
   "metadata": {},
   "source": [
    "### Structured filters"
   ]
  },
  {
   "cell_type": "code",
   "execution_count": null,
   "id": "a3acecfc",
   "metadata": {},
   "outputs": [],
   "source": [
    "filtered = [\n",
    "    r for r in results\n",
    "    if r[0].metadata[\"ticket_min_usd\"] <= startup[\"funding_ask_usd\"] <= r[0].metadata[\"ticket_max_usd\"]\n",
    "    and startup[\"stage\"] in r[0].metadata[\"stage_focus\"]\n",
    "]\n"
   ]
  },
  {
   "cell_type": "markdown",
   "id": "a991e861",
   "metadata": {},
   "source": [
    "#### Apply Structured Filter & Rescore:"
   ]
  },
  {
   "cell_type": "code",
   "execution_count": null,
   "id": "c9f041c7",
   "metadata": {},
   "outputs": [],
   "source": [
    "filtered = []\n",
    "for doc, sim_score in results:\n",
    "    meta = doc.metadata\n",
    "    if (startup_profile[\"stage\"] in meta[\"stage_focus\"] and\n",
    "        startup_profile[\"geography\"] in meta[\"preferred_geographies\"] and\n",
    "        meta[\"ticket_min_usd\"] <= startup_profile[\"funding_need\"] <= meta[\"ticket_max_usd\"]):\n",
    "        \n",
    "        final_score = 0.7 * sim_score + 0.3  # example boosting\n",
    "        filtered.append((meta, final_score))\n",
    "\n",
    "top_investors = sorted(filtered, key=lambda x: x[1], reverse=True)\n"
   ]
  }
 ],
 "metadata": {
  "kernelspec": {
   "display_name": "Python 3",
   "language": "python",
   "name": "python3"
  },
  "language_info": {
   "codemirror_mode": {
    "name": "ipython",
    "version": 3
   },
   "file_extension": ".py",
   "mimetype": "text/x-python",
   "name": "python",
   "nbconvert_exporter": "python",
   "pygments_lexer": "ipython3",
   "version": "3.11.3"
  }
 },
 "nbformat": 4,
 "nbformat_minor": 5
}
